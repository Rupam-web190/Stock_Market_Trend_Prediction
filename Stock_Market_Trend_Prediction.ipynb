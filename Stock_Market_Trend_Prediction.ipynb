{
  "nbformat": 4,
  "nbformat_minor": 0,
  "metadata": {
    "colab": {
      "provenance": [],
      "authorship_tag": "ABX9TyPlGyhSJqiSD//DNBZUffQx",
      "include_colab_link": true
    },
    "kernelspec": {
      "name": "python3",
      "display_name": "Python 3"
    },
    "language_info": {
      "name": "python"
    }
  },
  "cells": [
    {
      "cell_type": "markdown",
      "metadata": {
        "id": "view-in-github",
        "colab_type": "text"
      },
      "source": [
        "<a href=\"https://colab.research.google.com/github/Rupam-web190/Stock_Market_Trend_Prediction/blob/main/Stock_Market_Trend_Prediction_ipynb.ipynb\" target=\"_parent\"><img src=\"https://colab.research.google.com/assets/colab-badge.svg\" alt=\"Open In Colab\"/></a>"
      ]
    },
    {
      "cell_type": "markdown",
      "source": [
        "# 📈 Stock Market Trend Prediction using Machine Learning\n",
        "\n",
        "## 🔍 Objective\n",
        "The goal of this project is to predict future stock price trends using historical data. We'll use machine learning regression models to analyze and forecast stock price movements over time.\n"
      ],
      "metadata": {
        "id": "DHy106pB1KOZ"
      }
    },
    {
      "cell_type": "code",
      "source": [
        "# Install yfinance to fetch stock data\n",
        "!pip install yfinance\n"
      ],
      "metadata": {
        "colab": {
          "base_uri": "https://localhost:8080/"
        },
        "collapsed": true,
        "id": "cw5UekyS1iZJ",
        "outputId": "98f7c549-4f4e-4731-ea4d-97dfcbdfe7f9"
      },
      "execution_count": 9,
      "outputs": [
        {
          "output_type": "stream",
          "name": "stdout",
          "text": [
            "Requirement already satisfied: yfinance in /usr/local/lib/python3.11/dist-packages (0.2.65)\n",
            "Requirement already satisfied: pandas>=1.3.0 in /usr/local/lib/python3.11/dist-packages (from yfinance) (2.2.2)\n",
            "Requirement already satisfied: numpy>=1.16.5 in /usr/local/lib/python3.11/dist-packages (from yfinance) (2.0.2)\n",
            "Requirement already satisfied: requests>=2.31 in /usr/local/lib/python3.11/dist-packages (from yfinance) (2.32.3)\n",
            "Requirement already satisfied: multitasking>=0.0.7 in /usr/local/lib/python3.11/dist-packages (from yfinance) (0.0.11)\n",
            "Requirement already satisfied: platformdirs>=2.0.0 in /usr/local/lib/python3.11/dist-packages (from yfinance) (4.3.8)\n",
            "Requirement already satisfied: pytz>=2022.5 in /usr/local/lib/python3.11/dist-packages (from yfinance) (2025.2)\n",
            "Requirement already satisfied: frozendict>=2.3.4 in /usr/local/lib/python3.11/dist-packages (from yfinance) (2.4.6)\n",
            "Requirement already satisfied: peewee>=3.16.2 in /usr/local/lib/python3.11/dist-packages (from yfinance) (3.18.2)\n",
            "Requirement already satisfied: beautifulsoup4>=4.11.1 in /usr/local/lib/python3.11/dist-packages (from yfinance) (4.13.4)\n",
            "Requirement already satisfied: curl_cffi>=0.7 in /usr/local/lib/python3.11/dist-packages (from yfinance) (0.11.4)\n",
            "Requirement already satisfied: protobuf>=3.19.0 in /usr/local/lib/python3.11/dist-packages (from yfinance) (5.29.5)\n",
            "Requirement already satisfied: websockets>=13.0 in /usr/local/lib/python3.11/dist-packages (from yfinance) (15.0.1)\n",
            "Requirement already satisfied: soupsieve>1.2 in /usr/local/lib/python3.11/dist-packages (from beautifulsoup4>=4.11.1->yfinance) (2.7)\n",
            "Requirement already satisfied: typing-extensions>=4.0.0 in /usr/local/lib/python3.11/dist-packages (from beautifulsoup4>=4.11.1->yfinance) (4.14.1)\n",
            "Requirement already satisfied: cffi>=1.12.0 in /usr/local/lib/python3.11/dist-packages (from curl_cffi>=0.7->yfinance) (1.17.1)\n",
            "Requirement already satisfied: certifi>=2024.2.2 in /usr/local/lib/python3.11/dist-packages (from curl_cffi>=0.7->yfinance) (2025.7.9)\n",
            "Requirement already satisfied: python-dateutil>=2.8.2 in /usr/local/lib/python3.11/dist-packages (from pandas>=1.3.0->yfinance) (2.9.0.post0)\n",
            "Requirement already satisfied: tzdata>=2022.7 in /usr/local/lib/python3.11/dist-packages (from pandas>=1.3.0->yfinance) (2025.2)\n",
            "Requirement already satisfied: charset-normalizer<4,>=2 in /usr/local/lib/python3.11/dist-packages (from requests>=2.31->yfinance) (3.4.2)\n",
            "Requirement already satisfied: idna<4,>=2.5 in /usr/local/lib/python3.11/dist-packages (from requests>=2.31->yfinance) (3.10)\n",
            "Requirement already satisfied: urllib3<3,>=1.21.1 in /usr/local/lib/python3.11/dist-packages (from requests>=2.31->yfinance) (2.4.0)\n",
            "Requirement already satisfied: pycparser in /usr/local/lib/python3.11/dist-packages (from cffi>=1.12.0->curl_cffi>=0.7->yfinance) (2.22)\n",
            "Requirement already satisfied: six>=1.5 in /usr/local/lib/python3.11/dist-packages (from python-dateutil>=2.8.2->pandas>=1.3.0->yfinance) (1.17.0)\n"
          ]
        }
      ]
    },
    {
      "cell_type": "markdown",
      "source": [
        "## 📁 1. Import Libraries\n",
        "\n",
        "## 📊 2. Load and Explore Stock Data\n",
        "\n",
        "## 🧼 3. Preprocessing and Feature Engineering\n",
        "\n",
        "## 🧠 4. Model Training and Evaluation\n",
        "\n",
        "## 📉 5. Prediction and Visualization\n",
        "\n",
        "## 📝 6. Conclusion and Insights\n",
        "\n",
        "## 💬 7. Challenges Faced & Learning\n"
      ],
      "metadata": {
        "id": "GK02dWoh1w1Y"
      }
    },
    {
      "cell_type": "code",
      "source": [
        "# Basic libraries\n",
        "import pandas as pd\n",
        "import numpy as np\n",
        "import matplotlib.pyplot as plt\n",
        "import seaborn as sns\n",
        "\n",
        "# Machine learning\n",
        "from sklearn.model_selection import train_test_split\n",
        "from sklearn.linear_model import LinearRegression\n",
        "from sklearn.metrics import mean_squared_error, r2_score\n",
        "\n",
        "# Stock data fetching\n",
        "import yfinance as yf\n"
      ],
      "metadata": {
        "id": "yuW9A4kP1yMB"
      },
      "execution_count": 10,
      "outputs": []
    },
    {
      "cell_type": "code",
      "source": [
        "# Download 5 years of historical data for Reliance\n",
        "df = yf.download('RELIANCE.NS', start='2019-07-01', end='2024-07-01')\n",
        "\n",
        "# Display basic info\n",
        "df.head()\n"
      ],
      "metadata": {
        "colab": {
          "base_uri": "https://localhost:8080/",
          "height": 321
        },
        "id": "Qwls16rw2TME",
        "outputId": "73be44cd-29a3-4fbf-a675-d9b9e22ccf3a"
      },
      "execution_count": 11,
      "outputs": [
        {
          "output_type": "stream",
          "name": "stderr",
          "text": [
            "/tmp/ipython-input-11-3407868591.py:2: FutureWarning: YF.download() has changed argument auto_adjust default to True\n",
            "  df = yf.download('RELIANCE.NS', start='2019-07-01', end='2024-07-01')\n",
            "\r[*********************100%***********************]  1 of 1 completed\n"
          ]
        },
        {
          "output_type": "execute_result",
          "data": {
            "text/plain": [
              "Price            Close        High         Low        Open      Volume\n",
              "Ticker     RELIANCE.NS RELIANCE.NS RELIANCE.NS RELIANCE.NS RELIANCE.NS\n",
              "Date                                                                  \n",
              "2019-07-01  566.490662  568.187161  556.489947  561.668853    13478857\n",
              "2019-07-02  570.799011  571.915189  564.012835  568.767647    10146746\n",
              "2019-07-03  572.607117  574.370672  569.258703  572.763403     8806492\n",
              "2019-07-04  573.254517  576.379766  571.468668  572.093754     9351405\n",
              "2019-07-05  564.035034  576.156461  562.539407  573.745527    10926753"
            ],
            "text/html": [
              "\n",
              "  <div id=\"df-58166d00-e680-452d-b79e-88c2d8f09289\" class=\"colab-df-container\">\n",
              "    <div>\n",
              "<style scoped>\n",
              "    .dataframe tbody tr th:only-of-type {\n",
              "        vertical-align: middle;\n",
              "    }\n",
              "\n",
              "    .dataframe tbody tr th {\n",
              "        vertical-align: top;\n",
              "    }\n",
              "\n",
              "    .dataframe thead tr th {\n",
              "        text-align: left;\n",
              "    }\n",
              "\n",
              "    .dataframe thead tr:last-of-type th {\n",
              "        text-align: right;\n",
              "    }\n",
              "</style>\n",
              "<table border=\"1\" class=\"dataframe\">\n",
              "  <thead>\n",
              "    <tr>\n",
              "      <th>Price</th>\n",
              "      <th>Close</th>\n",
              "      <th>High</th>\n",
              "      <th>Low</th>\n",
              "      <th>Open</th>\n",
              "      <th>Volume</th>\n",
              "    </tr>\n",
              "    <tr>\n",
              "      <th>Ticker</th>\n",
              "      <th>RELIANCE.NS</th>\n",
              "      <th>RELIANCE.NS</th>\n",
              "      <th>RELIANCE.NS</th>\n",
              "      <th>RELIANCE.NS</th>\n",
              "      <th>RELIANCE.NS</th>\n",
              "    </tr>\n",
              "    <tr>\n",
              "      <th>Date</th>\n",
              "      <th></th>\n",
              "      <th></th>\n",
              "      <th></th>\n",
              "      <th></th>\n",
              "      <th></th>\n",
              "    </tr>\n",
              "  </thead>\n",
              "  <tbody>\n",
              "    <tr>\n",
              "      <th>2019-07-01</th>\n",
              "      <td>566.490662</td>\n",
              "      <td>568.187161</td>\n",
              "      <td>556.489947</td>\n",
              "      <td>561.668853</td>\n",
              "      <td>13478857</td>\n",
              "    </tr>\n",
              "    <tr>\n",
              "      <th>2019-07-02</th>\n",
              "      <td>570.799011</td>\n",
              "      <td>571.915189</td>\n",
              "      <td>564.012835</td>\n",
              "      <td>568.767647</td>\n",
              "      <td>10146746</td>\n",
              "    </tr>\n",
              "    <tr>\n",
              "      <th>2019-07-03</th>\n",
              "      <td>572.607117</td>\n",
              "      <td>574.370672</td>\n",
              "      <td>569.258703</td>\n",
              "      <td>572.763403</td>\n",
              "      <td>8806492</td>\n",
              "    </tr>\n",
              "    <tr>\n",
              "      <th>2019-07-04</th>\n",
              "      <td>573.254517</td>\n",
              "      <td>576.379766</td>\n",
              "      <td>571.468668</td>\n",
              "      <td>572.093754</td>\n",
              "      <td>9351405</td>\n",
              "    </tr>\n",
              "    <tr>\n",
              "      <th>2019-07-05</th>\n",
              "      <td>564.035034</td>\n",
              "      <td>576.156461</td>\n",
              "      <td>562.539407</td>\n",
              "      <td>573.745527</td>\n",
              "      <td>10926753</td>\n",
              "    </tr>\n",
              "  </tbody>\n",
              "</table>\n",
              "</div>\n",
              "    <div class=\"colab-df-buttons\">\n",
              "\n",
              "  <div class=\"colab-df-container\">\n",
              "    <button class=\"colab-df-convert\" onclick=\"convertToInteractive('df-58166d00-e680-452d-b79e-88c2d8f09289')\"\n",
              "            title=\"Convert this dataframe to an interactive table.\"\n",
              "            style=\"display:none;\">\n",
              "\n",
              "  <svg xmlns=\"http://www.w3.org/2000/svg\" height=\"24px\" viewBox=\"0 -960 960 960\">\n",
              "    <path d=\"M120-120v-720h720v720H120Zm60-500h600v-160H180v160Zm220 220h160v-160H400v160Zm0 220h160v-160H400v160ZM180-400h160v-160H180v160Zm440 0h160v-160H620v160ZM180-180h160v-160H180v160Zm440 0h160v-160H620v160Z\"/>\n",
              "  </svg>\n",
              "    </button>\n",
              "\n",
              "  <style>\n",
              "    .colab-df-container {\n",
              "      display:flex;\n",
              "      gap: 12px;\n",
              "    }\n",
              "\n",
              "    .colab-df-convert {\n",
              "      background-color: #E8F0FE;\n",
              "      border: none;\n",
              "      border-radius: 50%;\n",
              "      cursor: pointer;\n",
              "      display: none;\n",
              "      fill: #1967D2;\n",
              "      height: 32px;\n",
              "      padding: 0 0 0 0;\n",
              "      width: 32px;\n",
              "    }\n",
              "\n",
              "    .colab-df-convert:hover {\n",
              "      background-color: #E2EBFA;\n",
              "      box-shadow: 0px 1px 2px rgba(60, 64, 67, 0.3), 0px 1px 3px 1px rgba(60, 64, 67, 0.15);\n",
              "      fill: #174EA6;\n",
              "    }\n",
              "\n",
              "    .colab-df-buttons div {\n",
              "      margin-bottom: 4px;\n",
              "    }\n",
              "\n",
              "    [theme=dark] .colab-df-convert {\n",
              "      background-color: #3B4455;\n",
              "      fill: #D2E3FC;\n",
              "    }\n",
              "\n",
              "    [theme=dark] .colab-df-convert:hover {\n",
              "      background-color: #434B5C;\n",
              "      box-shadow: 0px 1px 3px 1px rgba(0, 0, 0, 0.15);\n",
              "      filter: drop-shadow(0px 1px 2px rgba(0, 0, 0, 0.3));\n",
              "      fill: #FFFFFF;\n",
              "    }\n",
              "  </style>\n",
              "\n",
              "    <script>\n",
              "      const buttonEl =\n",
              "        document.querySelector('#df-58166d00-e680-452d-b79e-88c2d8f09289 button.colab-df-convert');\n",
              "      buttonEl.style.display =\n",
              "        google.colab.kernel.accessAllowed ? 'block' : 'none';\n",
              "\n",
              "      async function convertToInteractive(key) {\n",
              "        const element = document.querySelector('#df-58166d00-e680-452d-b79e-88c2d8f09289');\n",
              "        const dataTable =\n",
              "          await google.colab.kernel.invokeFunction('convertToInteractive',\n",
              "                                                    [key], {});\n",
              "        if (!dataTable) return;\n",
              "\n",
              "        const docLinkHtml = 'Like what you see? Visit the ' +\n",
              "          '<a target=\"_blank\" href=https://colab.research.google.com/notebooks/data_table.ipynb>data table notebook</a>'\n",
              "          + ' to learn more about interactive tables.';\n",
              "        element.innerHTML = '';\n",
              "        dataTable['output_type'] = 'display_data';\n",
              "        await google.colab.output.renderOutput(dataTable, element);\n",
              "        const docLink = document.createElement('div');\n",
              "        docLink.innerHTML = docLinkHtml;\n",
              "        element.appendChild(docLink);\n",
              "      }\n",
              "    </script>\n",
              "  </div>\n",
              "\n",
              "\n",
              "    <div id=\"df-0e32de53-f2cc-4892-ae98-d89bade47df2\">\n",
              "      <button class=\"colab-df-quickchart\" onclick=\"quickchart('df-0e32de53-f2cc-4892-ae98-d89bade47df2')\"\n",
              "                title=\"Suggest charts\"\n",
              "                style=\"display:none;\">\n",
              "\n",
              "<svg xmlns=\"http://www.w3.org/2000/svg\" height=\"24px\"viewBox=\"0 0 24 24\"\n",
              "     width=\"24px\">\n",
              "    <g>\n",
              "        <path d=\"M19 3H5c-1.1 0-2 .9-2 2v14c0 1.1.9 2 2 2h14c1.1 0 2-.9 2-2V5c0-1.1-.9-2-2-2zM9 17H7v-7h2v7zm4 0h-2V7h2v10zm4 0h-2v-4h2v4z\"/>\n",
              "    </g>\n",
              "</svg>\n",
              "      </button>\n",
              "\n",
              "<style>\n",
              "  .colab-df-quickchart {\n",
              "      --bg-color: #E8F0FE;\n",
              "      --fill-color: #1967D2;\n",
              "      --hover-bg-color: #E2EBFA;\n",
              "      --hover-fill-color: #174EA6;\n",
              "      --disabled-fill-color: #AAA;\n",
              "      --disabled-bg-color: #DDD;\n",
              "  }\n",
              "\n",
              "  [theme=dark] .colab-df-quickchart {\n",
              "      --bg-color: #3B4455;\n",
              "      --fill-color: #D2E3FC;\n",
              "      --hover-bg-color: #434B5C;\n",
              "      --hover-fill-color: #FFFFFF;\n",
              "      --disabled-bg-color: #3B4455;\n",
              "      --disabled-fill-color: #666;\n",
              "  }\n",
              "\n",
              "  .colab-df-quickchart {\n",
              "    background-color: var(--bg-color);\n",
              "    border: none;\n",
              "    border-radius: 50%;\n",
              "    cursor: pointer;\n",
              "    display: none;\n",
              "    fill: var(--fill-color);\n",
              "    height: 32px;\n",
              "    padding: 0;\n",
              "    width: 32px;\n",
              "  }\n",
              "\n",
              "  .colab-df-quickchart:hover {\n",
              "    background-color: var(--hover-bg-color);\n",
              "    box-shadow: 0 1px 2px rgba(60, 64, 67, 0.3), 0 1px 3px 1px rgba(60, 64, 67, 0.15);\n",
              "    fill: var(--button-hover-fill-color);\n",
              "  }\n",
              "\n",
              "  .colab-df-quickchart-complete:disabled,\n",
              "  .colab-df-quickchart-complete:disabled:hover {\n",
              "    background-color: var(--disabled-bg-color);\n",
              "    fill: var(--disabled-fill-color);\n",
              "    box-shadow: none;\n",
              "  }\n",
              "\n",
              "  .colab-df-spinner {\n",
              "    border: 2px solid var(--fill-color);\n",
              "    border-color: transparent;\n",
              "    border-bottom-color: var(--fill-color);\n",
              "    animation:\n",
              "      spin 1s steps(1) infinite;\n",
              "  }\n",
              "\n",
              "  @keyframes spin {\n",
              "    0% {\n",
              "      border-color: transparent;\n",
              "      border-bottom-color: var(--fill-color);\n",
              "      border-left-color: var(--fill-color);\n",
              "    }\n",
              "    20% {\n",
              "      border-color: transparent;\n",
              "      border-left-color: var(--fill-color);\n",
              "      border-top-color: var(--fill-color);\n",
              "    }\n",
              "    30% {\n",
              "      border-color: transparent;\n",
              "      border-left-color: var(--fill-color);\n",
              "      border-top-color: var(--fill-color);\n",
              "      border-right-color: var(--fill-color);\n",
              "    }\n",
              "    40% {\n",
              "      border-color: transparent;\n",
              "      border-right-color: var(--fill-color);\n",
              "      border-top-color: var(--fill-color);\n",
              "    }\n",
              "    60% {\n",
              "      border-color: transparent;\n",
              "      border-right-color: var(--fill-color);\n",
              "    }\n",
              "    80% {\n",
              "      border-color: transparent;\n",
              "      border-right-color: var(--fill-color);\n",
              "      border-bottom-color: var(--fill-color);\n",
              "    }\n",
              "    90% {\n",
              "      border-color: transparent;\n",
              "      border-bottom-color: var(--fill-color);\n",
              "    }\n",
              "  }\n",
              "</style>\n",
              "\n",
              "      <script>\n",
              "        async function quickchart(key) {\n",
              "          const quickchartButtonEl =\n",
              "            document.querySelector('#' + key + ' button');\n",
              "          quickchartButtonEl.disabled = true;  // To prevent multiple clicks.\n",
              "          quickchartButtonEl.classList.add('colab-df-spinner');\n",
              "          try {\n",
              "            const charts = await google.colab.kernel.invokeFunction(\n",
              "                'suggestCharts', [key], {});\n",
              "          } catch (error) {\n",
              "            console.error('Error during call to suggestCharts:', error);\n",
              "          }\n",
              "          quickchartButtonEl.classList.remove('colab-df-spinner');\n",
              "          quickchartButtonEl.classList.add('colab-df-quickchart-complete');\n",
              "        }\n",
              "        (() => {\n",
              "          let quickchartButtonEl =\n",
              "            document.querySelector('#df-0e32de53-f2cc-4892-ae98-d89bade47df2 button');\n",
              "          quickchartButtonEl.style.display =\n",
              "            google.colab.kernel.accessAllowed ? 'block' : 'none';\n",
              "        })();\n",
              "      </script>\n",
              "    </div>\n",
              "\n",
              "    </div>\n",
              "  </div>\n"
            ],
            "application/vnd.google.colaboratory.intrinsic+json": {
              "type": "dataframe",
              "variable_name": "df",
              "summary": "{\n  \"name\": \"df\",\n  \"rows\": 1235,\n  \"fields\": [\n    {\n      \"column\": [\n        \"Date\",\n        \"\"\n      ],\n      \"properties\": {\n        \"dtype\": \"date\",\n        \"min\": \"2019-07-01 00:00:00\",\n        \"max\": \"2024-06-28 00:00:00\",\n        \"num_unique_values\": 1235,\n        \"samples\": [\n          \"2022-07-13 00:00:00\",\n          \"2021-11-04 00:00:00\",\n          \"2021-09-16 00:00:00\"\n        ],\n        \"semantic_type\": \"\",\n        \"description\": \"\"\n      }\n    },\n    {\n      \"column\": [\n        \"Close\",\n        \"RELIANCE.NS\"\n      ],\n      \"properties\": {\n        \"dtype\": \"number\",\n        \"std\": 248.8519666490869,\n        \"min\": 397.06201171875,\n        \"max\": 1560.1051025390625,\n        \"num_unique_values\": 1219,\n        \"samples\": [\n          1109.2728271484375,\n          936.7974853515625,\n          539.4842529296875\n        ],\n        \"semantic_type\": \"\",\n        \"description\": \"\"\n      }\n    },\n    {\n      \"column\": [\n        \"High\",\n        \"RELIANCE.NS\"\n      ],\n      \"properties\": {\n        \"dtype\": \"number\",\n        \"std\": 249.67624396275139,\n        \"min\": 426.6827734460892,\n        \"max\": 1575.6523116431479,\n        \"num_unique_values\": 1235,\n        \"samples\": [\n          1111.9225031186797,\n          1144.3117085453473,\n          1113.1786948346985\n        ],\n        \"semantic_type\": \"\",\n        \"description\": \"\"\n      }\n    },\n    {\n      \"column\": [\n        \"Low\",\n        \"RELIANCE.NS\"\n      ],\n      \"properties\": {\n        \"dtype\": \"number\",\n        \"std\": 247.65209759831498,\n        \"min\": 393.28922542628095,\n        \"max\": 1525.846375016777,\n        \"num_unique_values\": 1235,\n        \"samples\": [\n          1084.0559180826576,\n          1137.504957017311,\n          1081.314891120308\n        ],\n        \"semantic_type\": \"\",\n        \"description\": \"\"\n      }\n    },\n    {\n      \"column\": [\n        \"Open\",\n        \"RELIANCE.NS\"\n      ],\n      \"properties\": {\n        \"dtype\": \"number\",\n        \"std\": 248.52623568661403,\n        \"min\": 411.5018328683332,\n        \"max\": 1525.846375016777,\n        \"num_unique_values\": 1235,\n        \"samples\": [\n          1108.861754782857,\n          1138.8525079757649,\n          1087.9617779439016\n        ],\n        \"semantic_type\": \"\",\n        \"description\": \"\"\n      }\n    },\n    {\n      \"column\": [\n        \"Volume\",\n        \"RELIANCE.NS\"\n      ],\n      \"properties\": {\n        \"dtype\": \"number\",\n        \"std\": 16225603,\n        \"min\": 1705656,\n        \"max\": 142683366,\n        \"num_unique_values\": 1235,\n        \"samples\": [\n          14224132,\n          1705656,\n          13448882\n        ],\n        \"semantic_type\": \"\",\n        \"description\": \"\"\n      }\n    }\n  ]\n}"
            }
          },
          "metadata": {},
          "execution_count": 11
        }
      ]
    },
    {
      "cell_type": "code",
      "source": [
        "# Reset index to access the Date as a column\n",
        "df.reset_index(inplace=True)\n",
        "\n",
        "# Keep only relevant columns\n",
        "df = df[['Date', 'Open', 'High', 'Low', 'Close', 'Volume']]\n",
        "\n",
        "# Sort by date just to be sure\n",
        "df = df.sort_values('Date')\n",
        "\n",
        "# Create new target column: Next day's Close (shifted)\n",
        "df['Target'] = df['Close'].shift(-1)\n",
        "\n",
        "# Drop last row (NaN in target)\n",
        "df.dropna(inplace=True)\n",
        "\n",
        "# Feature set (X) and Target variable (y)\n",
        "X = df[['Open', 'High', 'Low', 'Close', 'Volume']]\n",
        "y = df['Target']\n",
        "\n",
        "# Train-Test Split (80% train, 20% test)\n",
        "X_train, X_test, y_train, y_test = train_test_split(X, y, test_size=0.2, shuffle=False)\n"
      ],
      "metadata": {
        "id": "RHnyc-2I3Ccc"
      },
      "execution_count": 12,
      "outputs": []
    },
    {
      "cell_type": "code",
      "source": [
        "# Initialize and train the model\n",
        "model = LinearRegression()\n",
        "model.fit(X_train, y_train)\n",
        "\n",
        "# Predict on test set\n",
        "y_pred = model.predict(X_test)\n",
        "\n",
        "# Evaluation metrics\n",
        "mse = mean_squared_error(y_test, y_pred)\n",
        "r2 = r2_score(y_test, y_pred)\n",
        "\n",
        "print(f\"Mean Squared Error: {mse:.2f}\")\n",
        "print(f\"R^2 Score: {r2:.4f}\")\n"
      ],
      "metadata": {
        "colab": {
          "base_uri": "https://localhost:8080/"
        },
        "id": "xv1Ikwkb3Xgc",
        "outputId": "1eeebff6-6840-4e58-c77d-c8b372029b4c"
      },
      "execution_count": 13,
      "outputs": [
        {
          "output_type": "stream",
          "name": "stdout",
          "text": [
            "Mean Squared Error: 349.36\n",
            "R^2 Score: 0.9771\n"
          ]
        }
      ]
    },
    {
      "cell_type": "code",
      "source": [
        "# Create a DataFrame to compare\n",
        "result_df = pd.DataFrame({'Actual': y_test.values, 'Predicted': y_pred})\n",
        "result_df.reset_index(drop=True, inplace=True)\n",
        "\n",
        "# Plot\n",
        "plt.figure(figsize=(12,6))\n",
        "plt.plot(result_df['Actual'], label='Actual')\n",
        "plt.plot(result_df['Predicted'], label='Predicted')\n",
        "plt.title('Reliance Stock Price: Actual vs Predicted')\n",
        "plt.xlabel('Time')\n",
        "plt.ylabel('Price')\n",
        "plt.legend()\n",
        "plt.grid(True)\n",
        "plt.show()\n",
        "# Compare latest known actual close vs predicted next close\n",
        "# Last available input\n",
        "latest_input = X.tail(1)\n",
        "\n",
        "# Predict next day's closing price\n",
        "predicted_next_close = model.predict(latest_input)[0]\n",
        "\n",
        "# Actual latest close price (for comparison)\n",
        "actual_close_today = X.tail(1)['Close'].values[0]\n",
        "\n",
        "# Print clearly\n",
        "print(f\"Today's Close Price: ₹{float(actual_close_today):.2f}\")\n",
        "print(f\"Predicted Tomorrow's Close Price: ₹{predicted_next_close:.2f}\")\n",
        "\n"
      ],
      "metadata": {
        "colab": {
          "base_uri": "https://localhost:8080/",
          "height": 614
        },
        "id": "-Vq_o6S03j47",
        "outputId": "ef01b5f2-f0c2-4111-cb23-d8d5734db998"
      },
      "execution_count": 14,
      "outputs": [
        {
          "output_type": "display_data",
          "data": {
            "text/plain": [
              "<Figure size 1200x600 with 1 Axes>"
            ],
            "image/png": "[encoded data removed]"
          },
          "metadata": {}
        },
        {
          "output_type": "stream",
          "name": "stdout",
          "text": [
            "Today's Close Price: ₹1525.37\n",
            "Predicted Tomorrow's Close Price: ₹1523.15\n"
          ]
        },
        {
          "output_type": "stream",
          "name": "stderr",
          "text": [
            "/tmp/ipython-input-14-2396755906.py:26: DeprecationWarning: Conversion of an array with ndim > 0 to a scalar is deprecated, and will error in future. Ensure you extract a single element from your array before performing this operation. (Deprecated NumPy 1.25.)\n",
            "  print(f\"Today's Close Price: ₹{float(actual_close_today):.2f}\")\n"
          ]
        }
      ]
    },
    {
      "cell_type": "code",
      "source": [
        "# Save results to CSV\n",
        "result_df.to_csv(\"reliance_price_predictions.csv\", index=False)\n",
        "print(\"✅ Results saved to CSV: reliance_price_predictions.csv\")\n"
      ],
      "metadata": {
        "colab": {
          "base_uri": "https://localhost:8080/"
        },
        "id": "RYUvD-Vy79Ep",
        "outputId": "a329dc3f-af7f-49af-89f6-1976bef30e77"
      },
      "execution_count": 15,
      "outputs": [
        {
          "output_type": "stream",
          "name": "stdout",
          "text": [
            "✅ Results saved to CSV: reliance_price_predictions.csv\n"
          ]
        }
      ]
    },
    {
      "cell_type": "markdown",
      "source": [
        "## 📝 6. Conclusion and Insights\n",
        "\n",
        "- A linear regression model was trained to predict the next day's closing price of Reliance stock based on historical features.\n",
        "- The model performed with an R² score of approximately **0.9771** and a mean squared error of **349.36**.\n",
        "- The prediction graph shows that the model captures the general trend but may miss short-term fluctuations, which is expected in simple models.\n",
        "\n",
        "**Key Takeaways:**\n",
        "- Predicting stock prices is complex due to volatility and external factors.\n",
        "- More advanced models (like LSTM, XGBoost) could improve results.\n",
        "- This project provided strong practice in data handling, regression, and evaluation.\n"
      ],
      "metadata": {
        "id": "XiVScwBB4ETi"
      }
    },
    {
      "cell_type": "markdown",
      "source": [],
      "metadata": {
        "id": "k1yxIgVJ5KdG"
      }
    },
    {
      "cell_type": "markdown",
      "source": [
        "## 💬 7. Challenges Faced & Learning\n",
        "\n",
        "### Challenges:\n",
        "- Stock prices are influenced by many external factors (news, politics, global events), which are not captured in historical price data alone.\n",
        "- Ensuring proper time-based train-test split without data leakage.\n",
        "- Faced formatting errors while accessing NumPy arrays (`TypeError: ndarray format string`)\n",
        "- Solved by converting arrays to scalars using `.item()` or accessing `[0]`.\n",
        "\n",
        "### Learning:\n",
        "- Gained hands-on experience using `yfinance` to gather real-world stock data.\n",
        "- Applied regression techniques to time-series data.\n",
        "- Learned to evaluate and visualize model predictions effectively.\n",
        "\n",
        "## ✅ Outcome\n",
        "- Successfully saved the output predictions as CSV.\n",
        "- Generated Colab notebook shareable for submission.\n",
        "\n",
        "This project helped strengthen understanding of supervised learning and model evaluation in financial forecasting contexts.\n",
        "\n"
      ],
      "metadata": {
        "id": "Le6o2eRF5PKW"
      }
    },
    {
      "cell_type": "markdown",
      "source": [
        "## 🧠 Methodology\n",
        "- **Data Source**: Yahoo Finance (`yfinance`), collected past 5 years of RELIANCE.NS data.\n",
        "- **Features Used**: Open, High, Low, Close, Volume.\n",
        "- **Preprocessing**:\n",
        "  - Handled nulls\n",
        "  - Created shifted “next day close” values\n",
        "  - Scaled features using MinMaxScaler\n",
        "- **Model Used**: Linear Regression\n",
        "- **Evaluation Metrics**:\n",
        "  - R² Score: `0.9771`\n",
        "  - Mean Squared Error (MSE): `349.36`\n"
      ],
      "metadata": {
        "id": "9E5b8TlL9t4J"
      }
    }
  ]
}
